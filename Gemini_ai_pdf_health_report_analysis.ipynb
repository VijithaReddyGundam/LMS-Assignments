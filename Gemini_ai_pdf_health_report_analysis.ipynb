{
  "nbformat": 4,
  "nbformat_minor": 0,
  "metadata": {
    "colab": {
      "provenance": []
    },
    "kernelspec": {
      "name": "python3",
      "display_name": "Python 3"
    },
    "language_info": {
      "name": "python"
    }
  },
  "cells": [
    {
      "cell_type": "code",
      "execution_count": 18,
      "metadata": {
        "id": "VXjkVciwOBqK"
      },
      "outputs": [],
      "source": [
        "import google.generativeai as genai\n",
        "from google.colab import userdata\n",
        "Google_API_Key=userdata.get('Google_API_Key')\n",
        "genai.configure(api_key=Google_API_Key)"
      ]
    },
    {
      "cell_type": "code",
      "source": [
        "!pip install PyPDF2"
      ],
      "metadata": {
        "colab": {
          "base_uri": "https://localhost:8080/"
        },
        "id": "bUdUovI-OOur",
        "outputId": "e0172338-5844-4d8d-da96-577fa170a391"
      },
      "execution_count": 3,
      "outputs": [
        {
          "output_type": "stream",
          "name": "stdout",
          "text": [
            "Collecting PyPDF2\n",
            "  Downloading pypdf2-3.0.1-py3-none-any.whl.metadata (6.8 kB)\n",
            "Downloading pypdf2-3.0.1-py3-none-any.whl (232 kB)\n",
            "\u001b[2K   \u001b[90m━━━━━━━━━━━━━━━━━━━━━━━━━━━━━━━━━━━━━━━━\u001b[0m \u001b[32m232.6/232.6 kB\u001b[0m \u001b[31m3.3 MB/s\u001b[0m eta \u001b[36m0:00:00\u001b[0m\n",
            "\u001b[?25hInstalling collected packages: PyPDF2\n",
            "Successfully installed PyPDF2-3.0.1\n"
          ]
        }
      ]
    },
    {
      "cell_type": "code",
      "source": [
        "!pip install PyPDF2"
      ],
      "metadata": {
        "colab": {
          "base_uri": "https://localhost:8080/"
        },
        "id": "nebkM2KTOVQ5",
        "outputId": "2c9e8d33-24b8-4c26-9d7d-bfecee87076f"
      },
      "execution_count": 4,
      "outputs": [
        {
          "output_type": "stream",
          "name": "stdout",
          "text": [
            "Requirement already satisfied: PyPDF2 in /usr/local/lib/python3.11/dist-packages (3.0.1)\n"
          ]
        }
      ]
    },
    {
      "cell_type": "code",
      "source": [
        "import PyPDF2\n",
        "def extract_text_from_pdf(pdf_path):\n",
        "    text = \"\"\n",
        "    with open(pdf_path, \"rb\") as pdf_file:\n",
        "        reader = PyPDF2.PdfReader(file)\n",
        "        for page in reader.pages:\n",
        "            text += page.extract_text()\n",
        "    return text"
      ],
      "metadata": {
        "id": "lIA8FH3_O3G-"
      },
      "execution_count": 7,
      "outputs": []
    },
    {
      "cell_type": "code",
      "source": [
        "import PyPDF2\n",
        "\n",
        "def extract_text_from_pdf(pdf_path):\n",
        "    text = \"\"\n",
        "    with open(pdf_path, \"rb\") as pdf_file:\n",
        "        pdf_reader = PyPDF2.PdfReader(pdf_file)  # Correct variable name\n",
        "        for page in pdf_reader.pages:  # Use pdf_reader instead of reader\n",
        "            text += page.extract_text() if page.extract_text() else \"\"\n",
        "    return text\n",
        "\n",
        "pdf_file = \"health_report.pdf\"\n",
        "extracted_text = extract_text_from_pdf(pdf_file)  # Correct variable name\n",
        "insights = extract_health_insights(extracted_text)  # Fixed 'extracted_text' spelling\n",
        "print(\"Key Insights:\\n\", insights)\n"
      ],
      "metadata": {
        "colab": {
          "base_uri": "https://localhost:8080/",
          "height": 540
        },
        "id": "CnkTl-fiPUZ-",
        "outputId": "83184931-1431-481a-fadd-e95a063474a6"
      },
      "execution_count": 11,
      "outputs": [
        {
          "output_type": "stream",
          "name": "stdout",
          "text": [
            "Key Insights:\n",
            " Mr. Kishan Goud's (MR Number: MR2100003157) health report from February 1st, 2021, reveals the following key insights:\n",
            "\n",
            "**Infectious Diseases:**\n",
            "\n",
            "* **Widal Test:** Elevated titers for *Salmonella Typhi* \"O\" (1:160) and \"H\" (1:80) suggest a possible past or present typhoid infection.  The reference range is 1:20, so these values are significantly higher.  *Salmonella Paratyphi* \"A\" and \"B\" titers are within the normal range.\n",
            "* **Dengue Serology:**  Negative results for Dengue NS1 antigen, IgG, and IgM antibodies rule out a current or recent dengue fever infection.\n",
            "* **Malaria:**  Rapid Malaria tests for *Plasmodium vivax* and *Plasmodium falciparum* are both negative, indicating no malaria infection.\n",
            "\n",
            "**Hematology:**\n",
            "\n",
            "* **Complete Blood Picture (CBC):**  Most blood parameters are within normal limits, including hemoglobin, RBC count, WBC count, platelet count, and PCV. Differential count also shows values within normal limits.  RBCs are normocytic/normochromic.\n",
            "* **Erythrocyte Sedimentation Rate (ESR):** Elevated ESR (26 mm/hr in the first hour, 52 mm/hr in the second hour). This indicates inflammation or infection somewhere in the body, possibly contributing to the elevated Widal titers.\n",
            "\n",
            "\n",
            "**Biochemistry:**\n",
            "\n",
            "* **Liver Function Tests (LFTs):**  All liver function tests (bilirubin - total, direct, and indirect; alkaline phosphatase; SGOT; SGPT; total protein; albumin; globulin; A/G ratio) are within the normal range, suggesting no significant liver dysfunction.\n",
            "* **Serum Electrolytes:** Serum sodium (122 mmol/l) is slightly below the lower limit of the reference range (135-146 mmol/l). Serum potassium and chloride are within normal ranges. This mild hyponatremia should be investigated further.\n",
            "* **Renal Function:** Serum creatinine (0.8 mg/dl) is within the normal range, indicating normal kidney function.\n",
            "* **Blood Glucose:** Random blood glucose level is not explicitly stated as within or outside the normal range.\n",
            "* **HbA1c:**  HbA1c level is 5.4%, falling within the normal non-diabetic range (4-6%), indicating good blood sugar control.\n",
            "\n",
            "\n",
            "**Overall:**\n",
            "\n",
            "The report suggests a possible past or present typhoid infection (indicated by the Widal test) along with some level of inflammation (ESR).  The slightly low sodium level requires further investigation.  Other tests were negative for the infections investigated.  Further evaluation might be needed to fully understand the elevated ESR and slightly low sodium.  The patient's doctor (Dr. Krishna Prasad) should interpret these results in the context of the patient's clinical presentation and medical history.\n",
            "\n"
          ]
        }
      ]
    },
    {
      "cell_type": "code",
      "source": [
        "def summarize_health_report(text):\n",
        "  \"\"\"Summarizes the health report using Gemini AI.\"\"\"\n",
        "  model=genai.GenerativeModel(\"gemini-1.5-flash\")\n",
        "  prompt=f\"Summarize the following health report in a concise manner:\\n\\n{text}\"\n",
        "  response=model.generate_content(prompt)\n",
        "  return response.text\n",
        "summary=summarize_health_report(extracted_text)\n",
        "print(\"Summary:\\n\",summary)"
      ],
      "metadata": {
        "colab": {
          "base_uri": "https://localhost:8080/",
          "height": 342
        },
        "id": "Sw1N2tqpRLza",
        "outputId": "defb7c25-dde6-4c7a-a27f-693ef4386e85"
      },
      "execution_count": 12,
      "outputs": [
        {
          "output_type": "stream",
          "name": "stdout",
          "text": [
            "Summary:\n",
            " Mr. Kishan Goud's (MR2100003157) lab results from 01/02/2021 show:\n",
            "\n",
            "* **Widal Test:** Elevated titers for *Salmonella Typhi* \"O\" (1:160) and \"H\" (1:80), suggesting possible typhoid fever.  *Salmonella Paratyphi* AH and BH were within normal range.\n",
            "* **Dengue Serology:** Negative for NS1 antigen, IgG, and IgM.\n",
            "* **ESR:** Elevated (26 mm/hr 1st hour, 52 mm/hr 2nd hour), indicating inflammation.\n",
            "* **Malaria Test:** Negative for *Plasmodium vivax* and *Plasmodium falciparum*.\n",
            "* **Complete Blood Picture (CBC):**  Hemoglobin, RBC, WBC, and platelets within normal limits.  Differential count also within normal range.\n",
            "* **HbA1c:** 5.4%, within the normal non-diabetic range.\n",
            "* **Serum Creatinine:** 0.8 mg/dl (within normal range).\n",
            "* **Random Blood Glucose:**  Not provided in the summary.\n",
            "* **Liver Function Tests (LFTs):** All values within normal limits.\n",
            "* **Serum Electrolytes:** Sodium (122 mmol/l) slightly low, potassium and chloride within normal range.\n",
            "\n",
            "\n",
            "**Note:**  The slightly low sodium and elevated ESR warrant further investigation. The elevated *Salmonella Typhi* titers strongly suggest further evaluation for typhoid fever.  The missing random blood glucose value needs to be included for a complete assessment.\n",
            "\n"
          ]
        }
      ]
    },
    {
      "cell_type": "code",
      "source": [
        "def detect_abnormalities(text):\n",
        "  \"\"\"Analyzes lab test results and flags abnormal values.\"\"\"\n",
        "  model=genai.GenerativeModel(\"gemini-1.5-flash\")\n",
        "  prompt=f\"Analyze the lab test results in the following health report and hidhlight any abnormal  values:\\n\\n{text}\"\n",
        "  response=model.generate_content(prompt)\n",
        "  return response.text\n",
        "abnormalities=detect_abnormalities(extracted_text)\n",
        "print(\" Potential Conditions:\\n\",abnormalities)"
      ],
      "metadata": {
        "colab": {
          "base_uri": "https://localhost:8080/",
          "height": 414
        },
        "id": "vE5BQdQHTtNq",
        "outputId": "ff672a1f-63a7-49e6-f62f-148b64f5e1c0"
      },
      "execution_count": 15,
      "outputs": [
        {
          "output_type": "stream",
          "name": "stdout",
          "text": [
            " Potential Conditions:\n",
            " Based on the provided lab results, the following values fall outside the normal biological reference ranges, indicating potential abnormalities:\n",
            "\n",
            "* **ESR 1st Hour:** 26 mm/hr (Reference range: 0-8 mm/hr).  This significantly elevated ESR suggests inflammation in the body.\n",
            "\n",
            "* **ESR 2nd Hour:** 52 mm/hr. This is also considerably above the normal range for the first hour, further supporting the presence of inflammation.  Note that the reference range is usually only provided for the first hour.\n",
            "\n",
            "* **RBC:** 4.3 mill/cumm (Reference range: 4.5 - 5.5 mill/cumm).  While only slightly low, this could indicate mild anemia.  Further investigation may be warranted depending on other factors and the patient's symptoms.\n",
            "\n",
            "* **Platelet Count:** 2.0 lakhs/cumm (Reference range: 1.5 - 4.5 lakhs/cumm). Although within the reference range, it's on the lower end, which may be of concern depending on the clinical picture.  Further investigation may be required.\n",
            "\n",
            "* **Serum Sodium:** 122 mmol/l (Reference range: 135 - 146 mmol/l). This is significantly low, indicating hyponatremia (low sodium levels in the blood).  This is a serious finding and requires medical attention.\n",
            "\n",
            "* **Serum Chloride:** 97 mmol/l (Reference range: 98 - 107 mmol/l). Slightly low, but might be related to the low sodium.\n",
            "\n",
            "\n",
            "**Widal Test:** While the report shows titers above the reference range for *Salmonella Typhi* \"O\" (1:160) and \"H\" (1:80),  interpretation of the Widal test requires clinical correlation. A single elevated titer isn't definitive for typhoid fever. Other factors like patient symptoms and epidemiological context are crucial for diagnosis.  A rising titer over time would provide stronger evidence.\n",
            "\n",
            "\n",
            "**Important Note:** I am an AI and cannot provide medical advice.  These highlighted abnormalities require a physician's interpretation in the context of the patient's clinical presentation, medical history, and other diagnostic tests.  Mr. Kishan Goud should consult his doctor for proper evaluation and management of these findings.\n",
            "\n"
          ]
        }
      ]
    },
    {
      "cell_type": "code",
      "source": [
        "def explain_medical_terms(text):\n",
        "  \"\"\"Asks Gemini AI to simplify medical terms for patient understanding.\"\"\"\n",
        "  model=genai.GenerativeModel(\"gemini-1.5-flash\")\n",
        "  prompt=f\"Explain the medical terms in the following health report ij simple language:\\n\\n{text}\"\n",
        "  response=model.generate_content(prompt)\n",
        "  return response.text\n",
        "explanation=explain_medical_terms(extracted_text)\n",
        "print(\"Simplified Explanation:\\n\",explanation)"
      ],
      "metadata": {
        "colab": {
          "base_uri": "https://localhost:8080/",
          "height": 899
        },
        "id": "EaNShTq5VBsX",
        "outputId": "c484b644-1ac9-4f94-8af3-5311b1b979e3"
      },
      "execution_count": 16,
      "outputs": [
        {
          "output_type": "stream",
          "name": "stdout",
          "text": [
            "Simplified Explanation:\n",
            " This report shows the results of various blood tests performed on Mr. Kishan Goud. Let's break down each section:\n",
            "\n",
            "**1. WIDAL Test:** This test checks for antibodies against *Salmonella Typhi* and *Salmonella Paratyphi*, bacteria that cause typhoid fever and paratyphoid fever, respectively.  The numbers (e.g., 1:160) represent the dilution of the sample at which the antibodies were still detectable.  A higher number indicates a stronger immune response, suggesting possible past or present infection.  In Mr. Goud's case:\n",
            "\n",
            "* **S. Typhi \"O\" 1:160:**  Suggests a possible past or present infection with *Salmonella Typhi*.\n",
            "* **S. Typhi \"H\" 1:80:**  Also suggests a possible past or present infection with *Salmonella Typhi*.\n",
            "* **S. Paratyphi \"AH\" 1:20:** Within the normal range, so no evidence of infection.\n",
            "* **S. Paratyphi \"BH\" 1:20:** Within the normal range, so no evidence of infection.\n",
            "\n",
            "**2. Dengue Serology:** This tests for dengue fever.  All three tests (NS1 antigen, IgG, and IgM) are negative, meaning no current or recent dengue infection is detected.\n",
            "\n",
            "**3. Erythrocyte Sedimentation Rate (ESR):** This measures how quickly red blood cells settle at the bottom of a test tube.  A higher ESR can indicate inflammation or infection in the body. Mr. Goud's ESR is elevated (26 mm/hr in the first hour, 52 mm/hr in the second), suggesting some inflammatory process.\n",
            "\n",
            "**4. Rapid Malaria Test:** This screens for malaria parasites. Both *Plasmodium vivax* (P.V) and *Plasmodium falciparum* (P.F) tests are negative, ruling out malaria.\n",
            "\n",
            "**5. Complete Blood Picture (CBC):** This is a comprehensive blood test that provides information about various blood components:\n",
            "\n",
            "* **Hemoglobin (Hb):**  Carries oxygen in the blood.  Mr. Goud's level (13.6 g/dL) is within the normal range.\n",
            "* **Red Blood Cells (RBC):** Carry oxygen. His count is slightly low, but still within a generally acceptable range.\n",
            "* **White Blood Cells (WBC):** Fight infection. His count (7,200 cells/cumm) is within the normal range.\n",
            "* **Platelets:** Help with blood clotting.  His count (2.0 lakhs/cumm) is within the normal range.\n",
            "* **Packed Cell Volume (PCV):** The percentage of red blood cells in the blood.  His level is within the normal range.\n",
            "* **Differential Count:** This breaks down the types of WBCs.  All are within normal limits.\n",
            "* **Peripheral Blood Smear:** A microscopic examination of the blood; the report indicates that red and white blood cells and platelets appear normal.\n",
            "\n",
            "\n",
            "**6. HbA1c:** This test measures average blood sugar levels over the past 2-3 months. Mr. Goud's level (5.4%) falls within the normal range for someone who is not diabetic.\n",
            "\n",
            "**7. Serum Creatinine:** This measures kidney function. Mr. Goud's level (0.8 mg/dL) is within the normal range.\n",
            "\n",
            "**8. Random Blood Glucose:** This measures blood sugar at a single point in time. Mr. Goud's level is within the normal range.\n",
            "\n",
            "**9. Liver Function Test (LFT):** These tests assess liver health:\n",
            "\n",
            "* **Total Bilirubin, Direct Bilirubin, Indirect Bilirubin:** These measure bilirubin, a byproduct of red blood cell breakdown. All levels are within normal limits.\n",
            "* **Alkaline Phosphatase (ALP), SGOT (AST), SGPT (ALT):** These enzymes are released into the blood when liver cells are damaged.  All are within the normal range.\n",
            "* **Total Protein, Albumin, Globulin, A/G Ratio:** These assess protein levels in the blood, providing additional information about liver function. All within normal limits.\n",
            "\n",
            "**10. Serum Electrolytes:** This measures the levels of important minerals in the blood:\n",
            "\n",
            "* **Sodium:** Slightly low (122 mmol/l, but needs context of other symptoms before drawing conclusions)\n",
            "* **Potassium:** Within the normal range.\n",
            "* **Chloride:** Slightly low (97 mmol/l, but needs context of other symptoms before drawing conclusions)\n",
            "\n",
            "\n",
            "**Overall:**  While some results show slight deviations from the ideal, like slightly low RBC and some electrolyte levels, and the elevated ESR is noteworthy,  most of Mr. Kishan Goud's blood test results fall within the normal range. The elevated ESR suggests potential inflammation.  The Widal test results suggest a possible past or present *Salmonella* infection.  Further evaluation and clinical correlation by his doctor are necessary to determine the significance of these findings and to provide a proper diagnosis.  This interpretation should not be considered medical advice.  Mr. Goud should discuss these results with his physician Dr. Krishna Prasad.\n",
            "\n"
          ]
        }
      ]
    },
    {
      "cell_type": "code",
      "source": [
        "def ask_gemini_about_report(text,question):\n",
        "  \"\"\" Allows users to ask questions about their health report.\"\"\"\n",
        "  model=genai.GenerativeModel(\"gemini-1.5-flash\")\n",
        "  prompt=f\"The following is a health report:\\n\\n{text}\\n\\nAnswer the following question based on the report:\\n{question}\"\n",
        "  response=model.generate_content(prompt)\n",
        "  return response.text\n",
        "question=\"What is the patient's diagnosis?\"\n",
        "answer=ask_gemini_about_report(extracted_text,question)\n",
        "print(\"Answer:\\n\",answer)"
      ],
      "metadata": {
        "colab": {
          "base_uri": "https://localhost:8080/",
          "height": 91
        },
        "id": "jpC38BUkWjRZ",
        "outputId": "d7cdcf77-e4ae-416c-f709-358b103ae4e1"
      },
      "execution_count": 17,
      "outputs": [
        {
          "output_type": "stream",
          "name": "stdout",
          "text": [
            "Answer:\n",
            " The provided lab report does not offer a diagnosis.  It presents various test results, some slightly outside of the reference ranges (e.g., slightly elevated ESR), but these are only data points.  A diagnosis requires clinical evaluation by a physician considering the patient's symptoms, medical history, and these lab results in context.  The elevated ESR might suggest inflammation, but without further information, a specific cause cannot be determined.\n",
            "\n"
          ]
        }
      ]
    },
    {
      "cell_type": "code",
      "source": [],
      "metadata": {
        "id": "tQw2QGHsXiUo"
      },
      "execution_count": null,
      "outputs": []
    }
  ]
}