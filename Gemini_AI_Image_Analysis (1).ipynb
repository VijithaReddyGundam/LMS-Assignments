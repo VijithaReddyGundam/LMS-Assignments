{
  "nbformat": 4,
  "nbformat_minor": 0,
  "metadata": {
    "colab": {
      "provenance": []
    },
    "kernelspec": {
      "name": "python3",
      "display_name": "Python 3"
    },
    "language_info": {
      "name": "python"
    }
  },
  "cells": [
    {
      "cell_type": "code",
      "execution_count": 5,
      "metadata": {
        "id": "hv7zBwBtZCCQ"
      },
      "outputs": [],
      "source": [
        "import google.generativeai as genai\n",
        "from google.colab import userdata\n",
        "Google_API_Key=userdata.get('Google_API_Key')\n",
        "genai.configure(api_key=Google_API_Key)"
      ]
    },
    {
      "cell_type": "code",
      "source": [
        "from google import genai\n",
        "from google.genai import types\n",
        "client=genai.Client(api_key=Google_API_Key)"
      ],
      "metadata": {
        "id": "R0SfVgmnfyas"
      },
      "execution_count": 6,
      "outputs": []
    },
    {
      "cell_type": "code",
      "source": [
        "import pathlib\n",
        "import textwrap\n",
        "from IPython.display import display, Markdown\n",
        "def to_markdown(text):\n",
        "    text = text.replace('*', ' - ')\n",
        "    return Markdown(textwrap.indent(text, '> ', predicate=lambda _: True))"
      ],
      "metadata": {
        "id": "oztv83WeZ0nq"
      },
      "execution_count": 7,
      "outputs": []
    },
    {
      "cell_type": "code",
      "source": [
        "import PIL.Image\n",
        "import google.generativeai as genai\n",
        "img = PIL.Image.open('image1.jpg')\n",
        "img\n",
        "model = genai.GenerativeModel('gemini-1.5-flash')\n",
        "response = model.generate_content([\"Write a short, engaging blog post based on this picture. It should include a description of the meal in the photo and talk about my journey meal prepping.\", img],stream=True)\n",
        "response.resolve()"
      ],
      "metadata": {
        "id": "ze9CGH_ics_w"
      },
      "execution_count": 8,
      "outputs": []
    },
    {
      "cell_type": "code",
      "source": [
        "to_markdown(response.text)"
      ],
      "metadata": {
        "id": "YHEFOcydc9sk",
        "colab": {
          "base_uri": "https://localhost:8080/",
          "height": 313
        },
        "outputId": "ad3430cf-e838-401c-d17d-5ac8fa438b16"
      },
      "execution_count": 9,
      "outputs": [
        {
          "output_type": "execute_result",
          "data": {
            "text/plain": [
              "<IPython.core.display.Markdown object>"
            ],
            "text/markdown": "> ## My Meal Prep Journey: From Chaos to Delicious!\n> \n> Look at these beauties!  Two perfectly portioned containers brimming with deliciousness – my latest meal prep masterpiece.  Each one boasts fluffy white rice as a base, topped with tender teriyaki chicken, vibrant roasted carrots and peppers, and a generous helping of steamed broccoli. It's the perfect balance of protein, carbs, and veggies, and the flavors?  Let's just say my taste buds are singing!\n> \n> My meal prep journey hasn't always been this picture-perfect, though.  For years, I was the queen of last-minute takeout and haphazard, unhealthy eating. My evenings were often filled with frantic searches for something quick and convenient, leaving me feeling sluggish and unsatisfied.\n> \n> Then, a switch flipped.  I realized that taking control of my meals wasn't just about healthier eating; it was about reclaiming my time and energy.  I started small, prepping just one or two meals a week.  It was a learning curve – figuring out portion sizes, finding recipes I actually enjoyed, and mastering the art of efficient cooking.  But with each successful meal prep session, my confidence grew.\n> \n> Now, I find the process incredibly therapeutic.  The satisfaction of creating these colorful, healthy meals, knowing I have nutritious and delicious food readily available all week, is unbeatable.  It's freed up my evenings, given me more energy, and significantly improved my overall well-being.\n> \n> So, if you're thinking about starting your own meal prep journey, just jump in!  Start small, experiment with recipes, and don't be afraid to adjust along the way.  The payoff is truly worth it.  And trust me, the Instagram-worthy photos are just a bonus!\n"
          },
          "metadata": {},
          "execution_count": 9
        }
      ]
    },
    {
      "cell_type": "code",
      "source": [
        "from PIL import Image\n",
        "image_path=\"girl.jpg\"\n",
        "image = Image.open(image_path)\n",
        "response=model.generate_content([\"Describe this image in detail.\",image])\n",
        "print(response.text)"
      ],
      "metadata": {
        "id": "rUHO79LjdIyh",
        "colab": {
          "base_uri": "https://localhost:8080/",
          "height": 270
        },
        "outputId": "1567a115-dbfc-4251-83f2-e9d501446813"
      },
      "execution_count": 10,
      "outputs": [
        {
          "output_type": "stream",
          "name": "stdout",
          "text": [
            "Here's a description of the image:\n",
            "\n",
            "Close-up view of a woman with shoulder-length, curly brown hair. \n",
            "\n",
            "\n",
            "She is smiling and gesturing with her right index finger, pointing to the viewer's left, as if indicating or drawing attention to something off-camera. \n",
            "\n",
            "\n",
            "She's wearing a teal-colored, three-quarter-sleeved top with a subtle gold-colored pattern. The top appears to be made of a lightweight fabric. Her arms are crossed, and one hand rests on her opposite forearm. \n",
            "\n",
            "\n",
            "The background is a plain, bright white, which makes the woman and her clothing the clear focus of the image. The overall lighting is even and soft. The woman appears to be of South Asian descent. Her expression is friendly and approachable.\n",
            "\n"
          ]
        }
      ]
    },
    {
      "cell_type": "code",
      "source": [
        "response=model.generate_content([\"What emotions can you detect in this image?\",image])\n",
        "print(response.text)"
      ],
      "metadata": {
        "id": "--_gyo3lgp9w",
        "colab": {
          "base_uri": "https://localhost:8080/",
          "height": 73
        },
        "outputId": "665ebffd-c885-4c59-f240-1a9f77edad18"
      },
      "execution_count": 11,
      "outputs": [
        {
          "output_type": "stream",
          "name": "stdout",
          "text": [
            "The woman in the image appears to be expressing happiness, confidence, and possibly helpfulness or friendliness.  Her smile is genuine, her posture is open, and her gesture of pointing suggests she's directing attention to something, likely in a positive and informative way.\n",
            "\n"
          ]
        }
      ]
    },
    {
      "cell_type": "code",
      "source": [
        "image_path=\"quote.jpg\"\n",
        "image = Image.open(image_path)\n",
        "response=model.generate_content([\"Extract and read the text from this image.\",image])\n",
        "print(response.text)"
      ],
      "metadata": {
        "id": "udU-zqjvhm6f",
        "colab": {
          "base_uri": "https://localhost:8080/",
          "height": 125
        },
        "outputId": "f8be3699-12b0-4527-f26e-b8338f10c2ec"
      },
      "execution_count": 12,
      "outputs": [
        {
          "output_type": "stream",
          "name": "stdout",
          "text": [
            "Here's a transcription of the text from the image:\n",
            "\n",
            "FAILURE is not the\n",
            "opposite of success\n",
            "it's PART OF\n",
            "SUCCESS\n"
          ]
        }
      ]
    },
    {
      "cell_type": "code",
      "source": [
        "# Open an image (change 'logo.jpg' to your actual file)\n",
        "\n",
        "image_path = \"logo1.jpg\"\n",
        "\n",
        "image = Image.open(image_path)\n",
        "\n",
        "# Ask Gemini to recognize the brand/logo\n",
        "\n",
        "response = model.generate_content([\"Identify the brand or company associated with this logo.\", image])\n",
        "\n",
        "print(response.text)\n",
        "\n",
        "\n",
        "\n",
        "\n"
      ],
      "metadata": {
        "id": "VfOA95DWj2tz",
        "colab": {
          "base_uri": "https://localhost:8080/",
          "height": 53
        },
        "outputId": "5a6e9c1f-8cb8-4b01-cdc7-b54479bfb202"
      },
      "execution_count": 13,
      "outputs": [
        {
          "output_type": "stream",
          "name": "stdout",
          "text": [
            "That's the logo for **Amazon**.\n",
            "\n"
          ]
        }
      ]
    },
    {
      "cell_type": "code",
      "source": [
        "image_path = \"product.jpg\"\n",
        "\n",
        "image = Image.open(image_path)\n",
        "\n",
        "model = genai.GenerativeModel('gemini-1.5-flash')\n",
        "\n",
        "response = model.generate_content([\"What product is shown in this image?\", image])\n",
        "\n",
        "print(response.text)\n",
        "\n",
        "\n",
        "\n",
        "\n"
      ],
      "metadata": {
        "colab": {
          "base_uri": "https://localhost:8080/",
          "height": 35
        },
        "id": "fmtk2WtRNnND",
        "outputId": "46c7409f-b544-416d-ff0a-db5bd2fee999"
      },
      "execution_count": 14,
      "outputs": [
        {
          "output_type": "stream",
          "name": "stdout",
          "text": [
            "That's a pair of black over-ear headphones.\n"
          ]
        }
      ]
    },
    {
      "cell_type": "code",
      "source": [
        "response = model.generate_content([\"Suggest similar products to this one.\", image])\n",
        "\n",
        "print(response.text)\n",
        "\n",
        "\n",
        "\n",
        "\n"
      ],
      "metadata": {
        "colab": {
          "base_uri": "https://localhost:8080/",
          "height": 540
        },
        "id": "KQtbUKIqOg48",
        "outputId": "1a853e33-36c3-4ff7-9a20-4c79bbfc89d4"
      },
      "execution_count": 15,
      "outputs": [
        {
          "output_type": "stream",
          "name": "stdout",
          "text": [
            "Here are some similar products to the pictured black over-ear headphones.  To give you the best suggestions, I need a little more information.  Are you looking for headphones with similar:\n",
            "\n",
            "* **Features:**  Noise-canceling? Wireless? Wired?  Specific audio features (like a bass boost)? Microphone?\n",
            "* **Price Range:** Budget-friendly? Mid-range? High-end?\n",
            "* **Brand Preference:** Do you prefer a particular brand?\n",
            "\n",
            "However, based solely on the image, here are some general similar product categories and example brands to look for:\n",
            "\n",
            "\n",
            "**Similar Product Categories:**\n",
            "\n",
            "* **Over-ear Headphones:**  These are the same style as the picture, encompassing the ear completely.  Many brands offer various models within this category.\n",
            "* **Closed-back Headphones:** These headphones (like the one pictured) have closed-back earcups, meaning they isolate sound better than open-back headphones.\n",
            "\n",
            "\n",
            "**Example Brands Offering Similar Headphones (These are suggestions, and specific models will vary based on your criteria):**\n",
            "\n",
            "* **Sony:**  Known for their high-quality audio and noise-canceling technology.  Look for their WH-1000XM series for premium options or other series for more budget-friendly choices.\n",
            "* **Bose:** Another top brand, particularly known for their noise-canceling headphones.  Their QuietComfort series is a good place to start.\n",
            "* **Audio-Technica:**  Offers a wide range of headphones, from budget-friendly to audiophile-grade, with various features and styles.\n",
            "* **Sennheiser:**  A well-respected brand offering many high-quality headphones.\n",
            "* **JBL:** Known for their powerful bass and generally affordable prices.\n",
            "* **AKG:** Offers a variety of styles, from portable to studio-quality.\n",
            "* **Beyerdynamic:** High-quality headphones often used in professional settings.\n",
            "\n",
            "\n",
            "To find the best match, I recommend visiting online retailers like Amazon, Best Buy, or directly visiting the websites of these brands.  Use the features listed above (noise canceling, wireless, etc.) to filter your search and find the perfect fit.\n",
            "\n"
          ]
        }
      ]
    },
    {
      "cell_type": "code",
      "source": [
        "# Open an image containing a price\n",
        "\n",
        "image_path = \"invoice.jpg\"  # Change to your image file\n",
        "\n",
        "image = Image.open(image_path)\n",
        "\n",
        "# Ask Gemini AI to extract the price\n",
        "\n",
        "response = model.generate_content([\"Extract the price from this image.\", image])\n",
        "\n",
        "print(response.text)\n",
        "\n",
        "\n",
        "\n",
        "\n"
      ],
      "metadata": {
        "colab": {
          "base_uri": "https://localhost:8080/",
          "height": 35
        },
        "id": "OMnPbEeXPxGU",
        "outputId": "7b94f7d1-a183-47e7-8ad4-7653435a3bd1"
      },
      "execution_count": 16,
      "outputs": [
        {
          "output_type": "stream",
          "name": "stdout",
          "text": [
            "The price of each item is $10.00.  The subtotal is $100.00, and the grand total, including a 10% tax, is $100.00.\n"
          ]
        }
      ]
    },
    {
      "cell_type": "code",
      "source": [
        "response = model.generate_content([\"Extract the price, currency, and any discounts from this image.\", image])\n",
        "\n",
        "print(response.text)\n",
        "\n",
        "\n",
        "\n",
        "\n"
      ],
      "metadata": {
        "colab": {
          "base_uri": "https://localhost:8080/",
          "height": 127
        },
        "id": "611V0ODXSOTR",
        "outputId": "4d730bb0-4237-4d0b-ff8d-3fc2be8f170d"
      },
      "execution_count": 17,
      "outputs": [
        {
          "output_type": "stream",
          "name": "stdout",
          "text": [
            "Here's the extracted information from the image:\n",
            "\n",
            "* **Price:** $10.00 (per item)\n",
            "* **Currency:** USD ($)\n",
            "* **Discounts:** None.  There is a 10% tax, but no discounts are applied to the items themselves.  The final total remains $100.00, implying the tax is already included in that number.\n"
          ]
        }
      ]
    },
    {
      "cell_type": "code",
      "source": [
        "# Open an image containing a price\n",
        "\n",
        "image_path = \"bicycle.jpg\"  # Change to your image file\n",
        "\n",
        "image = Image.open(image_path)\n",
        "\n",
        "# Ask Gemini AI to extract the price\n",
        "\n",
        "response = model.generate_content([\"Identify all objects present in this image.\", image])\n",
        "\n",
        "print(response.text)\n",
        "\n",
        "\n",
        "\n",
        "\n"
      ],
      "metadata": {
        "colab": {
          "base_uri": "https://localhost:8080/",
          "height": 234
        },
        "id": "VMPxDOHhSQkj",
        "outputId": "d16d2823-a1b5-446b-e710-97134cbf0a15"
      },
      "execution_count": 18,
      "outputs": [
        {
          "output_type": "stream",
          "name": "stdout",
          "text": [
            "Here's a list of the objects present in the image:\n",
            "\n",
            "* **Two bicycles:** One is mostly yellow and black, the other is white.\n",
            "* **Two men:** Riding the bicycles. One is wearing a blue shirt and camouflage shorts, the other is wearing a grey shirt and jeans.  The man on the white bike is wearing a red cap.\n",
            "* **A motorcycle:** Parked on the left side of the image.\n",
            "* **A building:** With a shop front, visible in the background.\n",
            "* **A man (in the background):** Sitting inside the building.\n",
            "* **Street:** The wet road the men are cycling on.\n",
            "* **Vegetation:** Some grass is visible along the edge of the road.\n",
            "* **Shop shelves (partially visible):** in the background showing what appears to be goods for sale.\n",
            "* **Two chairs:** Partially visible inside the building.\n"
          ]
        }
      ]
    },
    {
      "cell_type": "code",
      "source": [
        "image = Image.open(\"items.jpg\")\n",
        "\n",
        "response = model.generate_content([\"List all objects in this image and count how many of each are present.\", image])\n",
        "\n",
        "print(response.text)\n",
        "\n",
        "\n",
        "\n",
        "\n"
      ],
      "metadata": {
        "colab": {
          "base_uri": "https://localhost:8080/",
          "height": 502
        },
        "id": "cZvTTHZkTZUq",
        "outputId": "2a9432bc-00cc-4e61-e0a2-63844fd241d9"
      },
      "execution_count": 19,
      "outputs": [
        {
          "output_type": "stream",
          "name": "stdout",
          "text": [
            "Here's a count of the objects in the image:\n",
            "\n",
            "**Countables:**\n",
            "\n",
            "* Eggs: 3\n",
            "* Banana: 1\n",
            "* Olives: 2\n",
            "* Fries: 1 (portion)\n",
            "* Burger: 1\n",
            "* Hot dog: 1\n",
            "* Apple: 1\n",
            "* Carrots: 2\n",
            "* Tomatoes: 3\n",
            "* Watermelon: 1\n",
            "\n",
            "**Uncountables:**\n",
            "\n",
            "* Milk: 1 (container)\n",
            "* Flour: 1 (bag)\n",
            "* Salt: 1 (pile)\n",
            "* Sugar: 1 (bowl)\n",
            "* Jam: 1 (jar)\n",
            "* Meat: 2 (slices)\n",
            "* Rice: 1 (pile)\n",
            "* Honey: 1 (jar)\n",
            "* Tea: 1 (cup)\n",
            "* Cheese: 1 (slice)\n"
          ]
        }
      ]
    },
    {
      "cell_type": "code",
      "source": [
        "!pip install youtube-transcript-api pytube\n",
        "\n",
        "\n",
        "\n",
        "\n"
      ],
      "metadata": {
        "colab": {
          "base_uri": "https://localhost:8080/"
        },
        "id": "E3VziMY8UZCv",
        "outputId": "9dc98f9a-e95e-47af-ebae-2ef22cd29ca3"
      },
      "execution_count": 20,
      "outputs": [
        {
          "output_type": "stream",
          "name": "stdout",
          "text": [
            "Requirement already satisfied: youtube-transcript-api in /usr/local/lib/python3.11/dist-packages (1.0.1)\n",
            "Requirement already satisfied: pytube in /usr/local/lib/python3.11/dist-packages (15.0.0)\n",
            "Requirement already satisfied: defusedxml<0.8.0,>=0.7.1 in /usr/local/lib/python3.11/dist-packages (from youtube-transcript-api) (0.7.1)\n",
            "Requirement already satisfied: requests in /usr/local/lib/python3.11/dist-packages (from youtube-transcript-api) (2.32.3)\n",
            "Requirement already satisfied: charset-normalizer<4,>=2 in /usr/local/lib/python3.11/dist-packages (from requests->youtube-transcript-api) (3.4.1)\n",
            "Requirement already satisfied: idna<4,>=2.5 in /usr/local/lib/python3.11/dist-packages (from requests->youtube-transcript-api) (3.10)\n",
            "Requirement already satisfied: urllib3<3,>=1.21.1 in /usr/local/lib/python3.11/dist-packages (from requests->youtube-transcript-api) (2.3.0)\n",
            "Requirement already satisfied: certifi>=2017.4.17 in /usr/local/lib/python3.11/dist-packages (from requests->youtube-transcript-api) (2025.1.31)\n"
          ]
        }
      ]
    },
    {
      "cell_type": "code",
      "source": [
        "from youtube_transcript_api import YouTubeTranscriptApi\n",
        "\n",
        "def get_youtube_transcript(video_url):\n",
        "\n",
        "    \"\"\"Fetches the transcript of a YouTube video.\"\"\"\n",
        "\n",
        "    video_id = video_url.split(\"v=\")[1].split(\"&\")[0]  # Extract video ID\n",
        "\n",
        "    transcript = YouTubeTranscriptApi.get_transcript(video_id)\n",
        "\n",
        "    full_text = \" \".join([t[\"text\"] for t in transcript])\n",
        "\n",
        "    return full_text\n",
        "\n",
        "# Example Usage\n",
        "\n",
        "video_url = \"https://www.youtube.com/watch?v=unYDoA8QGH0&list=PLWEpztHwA4ZT2QlHC74oIz4MsawcvE-QX\"\n",
        "\n",
        "video_transcript = get_youtube_transcript(video_url)\n",
        "\n",
        "print(\"Transcript:\\n\", video_transcript[:500])  # Show first 500 characters\n",
        "\n",
        "\n",
        "\n",
        "\n"
      ],
      "metadata": {
        "colab": {
          "base_uri": "https://localhost:8080/"
        },
        "id": "I7qgnlWCUrUr",
        "outputId": "0304bf63-8052-4c5d-f436-b4add1aef214"
      },
      "execution_count": 21,
      "outputs": [
        {
          "output_type": "stream",
          "name": "stdout",
          "text": [
            "Transcript:\n",
            " hi guys today I'm going to introduce you what is machine learning uh these are my presentation content what is machine learning what are the different applications of machine learning different types of machine learning and how to build a machine learning system or model then various kinds of algorithms and later on in this series we are going to take a Hands-On you know case studies or doing programming for various kinds of up algorithms so what is machine learning so machine learning is nothin\n"
          ]
        }
      ]
    },
    {
      "cell_type": "code",
      "source": [
        "import google.generativeai as genai\n",
        "from google.colab import userdata\n",
        "Google_API_Key=userdata.get('Google_API_Key')\n",
        "genai.configure(api_key=Google_API_Key)"
      ],
      "metadata": {
        "id": "Ujt7SZDSVJ0l"
      },
      "execution_count": 22,
      "outputs": []
    },
    {
      "cell_type": "code",
      "source": [
        "def summarize_video(text):\n",
        "\n",
        "    \"\"\"Summarizes the YouTube video transcript using Gemini AI.\"\"\"\n",
        "\n",
        "    model = genai.GenerativeModel(\"gemini-1.5-flash\")\n",
        "\n",
        "    prompt = f\"Summarize the following YouTube video transcript:\\n\\n{text}\"\n",
        "\n",
        "    response = model.generate_content(prompt)\n",
        "\n",
        "    return response.text\n",
        "\n",
        "summary = summarize_video(video_transcript)\n",
        "\n",
        "print(\"Summary:\\n\", summary)\n",
        "\n",
        "\n",
        "\n",
        "\n"
      ],
      "metadata": {
        "colab": {
          "base_uri": "https://localhost:8080/",
          "height": 163
        },
        "id": "lk31UMI-WAOL",
        "outputId": "2d00f4a0-f28b-473c-eb00-939ed3c0c9ad"
      },
      "execution_count": 4,
      "outputs": [
        {
          "output_type": "stream",
          "name": "stdout",
          "text": [
            "Summary:\n",
            " This YouTube video lecture introduces machine learning, covering its definition, applications, types, and the process of building a machine learning model.  Machine learning is defined as learning from data, a subfield of AI enabling smarter applications.  The speaker highlights applications in speech recognition, web search, recommendation systems, computer vision, information retrieval, and fraud detection.\n",
            "\n",
            "Three main types of machine learning are discussed: supervised (learning from labeled data, further categorized into classification and regression), unsupervised (learning from unlabeled data, exemplified by clustering and dimensionality reduction), and reinforcement learning (learning through trial and error with rewards and penalties).\n",
            "\n",
            "The video details the process of building a machine learning model, emphasizing data preprocessing (cleaning, scaling, encoding, feature selection), algorithm selection (choosing appropriate algorithms like decision trees or K-nearest neighbors based on the problem), model building, and evaluation.  The speaker promises future videos with hands-on case studies and practical implementation of various algorithms using the Iris dataset as an example.  The importance of building multiple models and comparing their performance is also stressed.\n",
            "\n"
          ]
        }
      ]
    },
    {
      "cell_type": "code",
      "source": [
        "def extract_video_insights(text):\n",
        "\n",
        "    \"\"\"Extracts key insights from the YouTube video transcript.\"\"\"\n",
        "\n",
        "    model = genai.GenerativeModel(\"gemini-1.5-flash\")\n",
        "\n",
        "    prompt = f\"Extract the key takeaways and insights from this YouTube video:\\n\\n{text}\"\n",
        "\n",
        "    response = model.generate_content(prompt)\n",
        "\n",
        "    return response.text\n",
        "\n",
        "insights = extract_video_insights(video_transcript)\n",
        "\n",
        "print(\"Key Insights:\\n\", insights)\n",
        "\n",
        "\n",
        "\n",
        "\n"
      ],
      "metadata": {
        "colab": {
          "base_uri": "https://localhost:8080/",
          "height": 881
        },
        "id": "NjtWs2bIWXPj",
        "outputId": "83f4b6b6-b78b-4cb8-a649-6d7dc5ba0d17"
      },
      "execution_count": 25,
      "outputs": [
        {
          "output_type": "stream",
          "name": "stdout",
          "text": [
            "Key Insights:\n",
            " This YouTube video provides an introduction to machine learning. Here are the key takeaways and insights:\n",
            "\n",
            "**What is Machine Learning?**\n",
            "\n",
            "* **Core Concept:** Machine learning is about learning from data.  It's a subfield of AI that enables smarter applications.  Data is used as \"training data\" or \"experience\" for the machine to learn patterns and make predictions.\n",
            "* **Key Process:**  Data (training data) + Machine Learning Algorithm = Model. This model is then used to predict future outcomes.\n",
            "* **Arthur Samuel's Definition:**  Machine learning is a field of study that gives computers the ability to learn without being explicitly programmed.  This means using algorithms to build models instead of hard-coding rules.\n",
            "* **Formal Definition:** A computer program is said to learn from experience (data) with respect to some task (problem), measured by performance (P). If performance improves with experience, the machine has learned.\n",
            "\n",
            "**Applications of Machine Learning:**\n",
            "\n",
            "The video highlights numerous applications across various domains, including:\n",
            "\n",
            "* **Speech Recognition:**  Powering virtual assistants like Siri and Google Assistant.\n",
            "* **Web Search:** Improving search engine results (e.g., using Naive Bayes algorithm).\n",
            "* **Recommendation Systems:** Suggesting products or content based on user data.\n",
            "* **Computer Vision:**  Understanding images and videos, identifying objects.\n",
            "* **Information Retrieval:**  Processing vast amounts of data to deliver relevant information (e.g., Google search).\n",
            "* **Fraud Detection:** Identifying malicious activities.\n",
            "\n",
            "**Types of Machine Learning:**\n",
            "\n",
            "The video categorizes machine learning into three main types:\n",
            "\n",
            "* **Supervised Learning:** The training data is labeled with the desired outcome.  The model learns to map inputs to outputs.  This further divides into:\n",
            "    * **Classification:** Predicting categorical labels (e.g., spam/not spam, digit recognition).\n",
            "    * **Regression:** Predicting continuous values (e.g., predicting salary, temperature).\n",
            "* **Unsupervised Learning:** The training data is unlabeled.  The model explores the data structure to find patterns and relationships.  Examples include clustering and dimensionality reduction.\n",
            "* **Reinforcement Learning:** An agent learns by interacting with an environment, receiving rewards or penalties for its actions.  This is commonly used in game playing and robotics.\n",
            "\n",
            "**Building a Machine Learning Model:**\n",
            "\n",
            "The video outlines a typical workflow:\n",
            "\n",
            "1. **Data Preprocessing:** Cleaning, scaling, encoding, and selecting features from raw data.\n",
            "2. **Algorithm Selection:** Choosing an appropriate algorithm for the task (classification, regression, etc.).\n",
            "3. **Model Building:** Applying the chosen algorithm to the preprocessed data.\n",
            "4. **Model Evaluation:** Assessing the model's accuracy and performance.  The video emphasizes building multiple models and comparing their results.\n",
            "\n",
            "**Key Terms:**\n",
            "\n",
            "The video defines crucial machine learning terms such as features, attributes, samples, instances, observations, target variable, response variable, and the importance of understanding these differing terminologies.  The Iris dataset is mentioned as a common example dataset used in machine learning practice.\n",
            "\n",
            "\n",
            "In summary, the video provides a comprehensive overview of the fundamental concepts, applications, types, and processes involved in machine learning, serving as a good introductory resource for beginners.  It also emphasizes the practical aspects of building and evaluating machine learning models.\n",
            "\n"
          ]
        }
      ]
    },
    {
      "cell_type": "code",
      "source": [
        "def ask_question_about_video(text, question):\n",
        "\n",
        "    \"\"\"Answers user questions about the YouTube video content.\"\"\"\n",
        "\n",
        "    model = genai.GenerativeModel(\"gemini-1.5-flash\")\n",
        "\n",
        "    prompt = f\"The following is a YouTube video transcript:\\n\\n{text}\\n\\nAnswer this question based on the content:\\n{question}\"\n",
        "\n",
        "    response = model.generate_content(prompt)\n",
        "\n",
        "    return response.text\n",
        "\n",
        "question = \"What is the main topic discussed in the video?\"\n",
        "\n",
        "answer = ask_question_about_video(video_transcript, question)\n",
        "\n",
        "print(\"Answer:\\n\", answer)\n",
        "\n",
        "\n",
        "\n",
        "\n"
      ],
      "metadata": {
        "colab": {
          "base_uri": "https://localhost:8080/",
          "height": 91
        },
        "id": "PL17nf4FX66i",
        "outputId": "3f19e9ff-9908-48de-f492-b5f0f8d01c8c"
      },
      "execution_count": 24,
      "outputs": [
        {
          "output_type": "stream",
          "name": "stdout",
          "text": [
            "Answer:\n",
            " The main topic of the YouTube video is an introduction to machine learning.  The video covers what machine learning is, its various applications, different types of machine learning (supervised, unsupervised, and reinforcement learning),  how to build a machine learning model (including data preprocessing steps), and an overview of different algorithms used in machine learning.  The presenter promises more hands-on, practical examples and programming in future videos.\n",
            "\n"
          ]
        }
      ]
    },
    {
      "cell_type": "code",
      "source": [
        "def analyze_sentiment(text):\n",
        "\n",
        "    \"\"\"Performs sentiment analysis on the YouTube video transcript.\"\"\"\n",
        "\n",
        "    model = genai.GenerativeModel(\"gemini-1.5-flash\")\n",
        "\n",
        "    prompt = f\"Analyze the sentiment of this YouTube video transcript. Is it positive, negative, or neutral?\\n\\n{text}\"\n",
        "\n",
        "    response = model.generate_content(prompt)\n",
        "\n",
        "    return response.text\n",
        "\n",
        "sentiment = analyze_sentiment(video_transcript)\n",
        "\n",
        "print(\"Sentiment Analysis:\\n\", sentiment)\n",
        "\n",
        "\n",
        "\n",
        "\n"
      ],
      "metadata": {
        "colab": {
          "base_uri": "https://localhost:8080/",
          "height": 91
        },
        "id": "UkapYem0YAUc",
        "outputId": "d70a4aca-d8a4-497d-dfbb-49e8aad060c2"
      },
      "execution_count": 26,
      "outputs": [
        {
          "output_type": "stream",
          "name": "stdout",
          "text": [
            "Sentiment Analysis:\n",
            " The sentiment of the YouTube video transcript is overwhelmingly **positive**.  The speaker is enthusiastic and encouraging, using phrases like \"smarter applications,\" \"very good,\"  \"growing a lot,\" and \"very intelligent application.\" The tone is instructional and optimistic, conveying a sense of excitement about the potential of machine learning. While the transcript explains complex concepts, it does so in an approachable and positive manner, aiming to empower the viewer to learn and build machine learning models.  There's no negativity or criticism expressed.\n",
            "\n"
          ]
        }
      ]
    },
    {
      "cell_type": "code",
      "source": [],
      "metadata": {
        "id": "Hdi11wFDYaTE"
      },
      "execution_count": null,
      "outputs": []
    }
  ]
}