{
 "cells": [
  {
   "cell_type": "code",
   "execution_count": 1,
   "id": "e88c3625",
   "metadata": {},
   "outputs": [],
   "source": [
    "import io\n",
    "import random\n",
    "import string\n",
    "import warnings\n",
    "warnings.filterwarnings('ignore')\n",
    "import numpy as np\n",
    "from sklearn.feature_extraction.text import TfidfVectorizer\n",
    "from sklearn.metrics.pairwise import cosine_similarity\n",
    "from nltk.stem import WordNetLemmatizer"
   ]
  },
  {
   "cell_type": "code",
   "execution_count": 2,
   "id": "6e094b49",
   "metadata": {},
   "outputs": [],
   "source": [
    "import nltk"
   ]
  },
  {
   "cell_type": "code",
   "execution_count": 3,
   "id": "65a622b9",
   "metadata": {},
   "outputs": [
    {
     "name": "stderr",
     "output_type": "stream",
     "text": [
      "[nltk_data] Downloading package punkt to\n",
      "[nltk_data]     C:\\Users\\gunda\\AppData\\Roaming\\nltk_data...\n",
      "[nltk_data]   Package punkt is already up-to-date!\n",
      "[nltk_data] Downloading package wordnet to\n",
      "[nltk_data]     C:\\Users\\gunda\\AppData\\Roaming\\nltk_data...\n",
      "[nltk_data]   Package wordnet is already up-to-date!\n"
     ]
    },
    {
     "data": {
      "text/plain": [
       "True"
      ]
     },
     "execution_count": 3,
     "metadata": {},
     "output_type": "execute_result"
    }
   ],
   "source": [
    "nltk.download('popular',quiet=True)\n",
    "nltk.download('punkt')\n",
    "nltk.download('wordnet')"
   ]
  },
  {
   "cell_type": "code",
   "execution_count": 5,
   "id": "e31c35ea",
   "metadata": {},
   "outputs": [],
   "source": [
    "f=open('input.txt','r',errors='ignore')\n",
    "raw=f.read()\n",
    "raw=raw.lower()"
   ]
  },
  {
   "cell_type": "code",
   "execution_count": 6,
   "id": "80f5436e",
   "metadata": {},
   "outputs": [],
   "source": [
    "import nltk\n",
    "sent_tokens=nltk.sent_tokenize(raw)\n",
    "word_tokens=nltk.word_tokenize(raw)"
   ]
  },
  {
   "cell_type": "code",
   "execution_count": 7,
   "id": "9ce2c1e7",
   "metadata": {},
   "outputs": [],
   "source": [
    "lemmer = nltk.stem.WordNetLemmatizer()\n",
    "#WordNet is a semantically-oriented dictionary of English included in NLTK.\n",
    "def LemTokens(tokens):\n",
    "    return [lemmer.lemmatize(token) for token in tokens]\n",
    "\n",
    "remove_punct_dict = dict((ord(punct), None) for punct in string.punctuation)\n",
    "\n",
    "def LemNormalize(text):\n",
    "    return LemTokens(nltk.word_tokenize(text.lower().translate(remove_punct_dict)))"
   ]
  },
  {
   "cell_type": "code",
   "execution_count": 8,
   "id": "571461c9",
   "metadata": {},
   "outputs": [],
   "source": [
    "GREETING_INPUTS = (\"hello\", \"hi\", \"greetings\", \"what's up\",\"hey\",\\\n",
    "                   \"how are you?\")\n",
    "\n",
    "GREETING_RESPONSES = [\"hi\", \"hey\", \"hi there\", \"hello\", \\\n",
    "                      \"I am glad! You are talking to me\", \\\n",
    "                      \"I am fine! How about you?\"]\n",
    "\n",
    "def greeting(sentence):\n",
    "    for word in sentence.split():\n",
    "        if word.lower() in GREETING_INPUTS:\n",
    "            return random.choice(GREETING_RESPONSES)\n"
   ]
  },
  {
   "cell_type": "code",
   "execution_count": 9,
   "id": "f89e0fdf",
   "metadata": {},
   "outputs": [],
   "source": [
    "def response(user_response):\n",
    "    robo_response = \"\"\n",
    "    sent_tokens.append(user_response)\n",
    "\n",
    "    TfidfVec = TfidfVectorizer(tokenizer=LemNormalize, stop_words='english')\n",
    "    tfidf = TfidfVec.fit_transform(sent_tokens)\n",
    "    vals = cosine_similarity(tfidf[-1], tfidf)\n",
    "    idx = vals.argsort()[0][-2]\n",
    "    flat = vals.flatten()\n",
    "    flat.sort()\n",
    "    req_tfidf = flat[-2]\n",
    "\n",
    "    if req_tfidf == 0:\n",
    "        robo_response = robo_response + \"I am sorry! I don't understand you.\"\n",
    "        return robo_response\n",
    "    else:\n",
    "        robo_response = robo_response + sent_tokens[idx]\n",
    "        return robo_response"
   ]
  },
  {
   "cell_type": "code",
   "execution_count": 2,
   "id": "00267ba5",
   "metadata": {},
   "outputs": [],
   "source": [
    "def greeting(text):\n",
    "    greetings = [\"hi\", \"hello\", \"hey\", \"greetings\"]\n",
    "    text = text.lower()\n",
    "    if text in greetings:\n",
    "        return \"Hello! How can I assist you?\"\n",
    "    return None\n"
   ]
  },
  {
   "cell_type": "code",
   "execution_count": 4,
   "id": "ac0055cb",
   "metadata": {},
   "outputs": [],
   "source": [
    "def response(user_input):\n",
    "    return \"I don't understand that yet.\"  # A placeholder response\n"
   ]
  },
  {
   "cell_type": "code",
   "execution_count": 6,
   "id": "a23c9dc9",
   "metadata": {},
   "outputs": [],
   "source": [
    "sent_tokens = []\n"
   ]
  },
  {
   "cell_type": "code",
   "execution_count": 7,
   "id": "4aa1b568",
   "metadata": {},
   "outputs": [],
   "source": [
    "sent_tokens = [\"Hello\", \"How can I help you?\", \"Goodbye\"]\n"
   ]
  },
  {
   "cell_type": "code",
   "execution_count": 9,
   "id": "6d02a31a",
   "metadata": {},
   "outputs": [],
   "source": [
    "if user_response in sent_tokens:\n",
    "    sent_tokens.remove(user_response)\n"
   ]
  },
  {
   "cell_type": "code",
   "execution_count": 10,
   "id": "952da34d",
   "metadata": {},
   "outputs": [],
   "source": [
    "sent_tokens = [\"hello\", \"how are you?\", \"bye\"]\n"
   ]
  },
  {
   "cell_type": "code",
   "execution_count": 11,
   "id": "7edede97",
   "metadata": {},
   "outputs": [
    {
     "name": "stdout",
     "output_type": "stream",
     "text": [
      "Current sent_tokens: ['hello', 'how are you?', 'bye']\n",
      "User response: what is a computer\n"
     ]
    }
   ],
   "source": [
    "print(\"Current sent_tokens:\", sent_tokens)\n",
    "print(\"User response:\", user_response)\n"
   ]
  },
  {
   "cell_type": "code",
   "execution_count": null,
   "id": "c6a9cfbd",
   "metadata": {},
   "outputs": [
    {
     "name": "stdout",
     "output_type": "stream",
     "text": [
      "SABot: My name is SABot. How can I assist you?\n",
      "If you want to exit, type Bye!\n"
     ]
    }
   ],
   "source": [
    "flag = True\n",
    "print(\"SABot: My name is SABot. How can I assist you?\\nIf you want to exit, type Bye!\")\n",
    "\n",
    "while flag:\n",
    "    user_response = input()\n",
    "    user_response = user_response.lower()\n",
    "\n",
    "    if user_response != 'bye':\n",
    "        if user_response == 'thanks' or user_response == 'thank you':\n",
    "            flag = False\n",
    "            print(\"SABot: You are welcome...\")\n",
    "        else:\n",
    "            if greeting(user_response) is not None:\n",
    "                print(\"SABot: \" + greeting(user_response))\n",
    "            else:\n",
    "                print(\"SABot: \", end=\" \")\n",
    "                print(response(user_response))\n",
    "\n",
    "            sent_tokens.remove(user_response)\n",
    "    else:\n",
    "        flag = False\n",
    "        print(\"SABot: Bye! Take care...\")"
   ]
  },
  {
   "cell_type": "code",
   "execution_count": null,
   "id": "4f1d406c",
   "metadata": {},
   "outputs": [],
   "source": []
  }
 ],
 "metadata": {
  "kernelspec": {
   "display_name": "Python 3 (ipykernel)",
   "language": "python",
   "name": "python3"
  },
  "language_info": {
   "codemirror_mode": {
    "name": "ipython",
    "version": 3
   },
   "file_extension": ".py",
   "mimetype": "text/x-python",
   "name": "python",
   "nbconvert_exporter": "python",
   "pygments_lexer": "ipython3",
   "version": "3.9.13"
  }
 },
 "nbformat": 4,
 "nbformat_minor": 5
}
