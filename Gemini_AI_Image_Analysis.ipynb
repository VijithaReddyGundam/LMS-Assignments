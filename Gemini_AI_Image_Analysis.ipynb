{
  "nbformat": 4,
  "nbformat_minor": 0,
  "metadata": {
    "colab": {
      "provenance": []
    },
    "kernelspec": {
      "name": "python3",
      "display_name": "Python 3"
    },
    "language_info": {
      "name": "python"
    }
  },
  "cells": [
    {
      "cell_type": "code",
      "execution_count": 26,
      "metadata": {
        "id": "hv7zBwBtZCCQ"
      },
      "outputs": [],
      "source": [
        "import google.generativeai as genai\n",
        "from google.colab import userdata\n",
        "Google_API_Key=userdata.get('Google_API_Key')\n",
        "genai.configure(api_key=Google_API_Key)"
      ]
    },
    {
      "cell_type": "code",
      "source": [
        "from google import genai\n",
        "from google.genai import types\n",
        "client=genai.Client(api_key=Google_API_Key)"
      ],
      "metadata": {
        "id": "R0SfVgmnfyas"
      },
      "execution_count": 33,
      "outputs": []
    },
    {
      "cell_type": "code",
      "source": [
        "import pathlib\n",
        "import textwrap\n",
        "from IPython.display import display, Markdown\n",
        "def to_markdown(text):\n",
        "    text = text.replace('*', ' - ')\n",
        "    return Markdown(textwrap.indent(text, '> ', predicate=lambda _: True))"
      ],
      "metadata": {
        "id": "oztv83WeZ0nq"
      },
      "execution_count": 27,
      "outputs": []
    },
    {
      "cell_type": "code",
      "source": [
        "import PIL.Image\n",
        "import google.generativeai as genai\n",
        "img = PIL.Image.open('image1.jpg')\n",
        "img\n",
        "model = genai.GenerativeModel('gemini-1.5-flash')\n",
        "response = model.generate_content([\"Write a short, engaging blog post based on this picture. It should include a description of the meal in the photo and talk about my journey meal prepping.\", img],stream=True)\n",
        "response.resolve()"
      ],
      "metadata": {
        "id": "ze9CGH_ics_w"
      },
      "execution_count": 30,
      "outputs": []
    },
    {
      "cell_type": "code",
      "source": [
        "to_markdown(response.text)"
      ],
      "metadata": {
        "colab": {
          "base_uri": "https://localhost:8080/",
          "height": 399
        },
        "id": "YHEFOcydc9sk",
        "outputId": "55112985-a628-4fdc-e62b-243fd399a826"
      },
      "execution_count": 31,
      "outputs": [
        {
          "output_type": "execute_result",
          "data": {
            "text/plain": [
              "<IPython.core.display.Markdown object>"
            ],
            "text/markdown": "> ## My Meal Prep Journey: From Chaos to Deliciousness!\n> \n> Look at these beauties!  These aren't just any lunch containers; they're my ticket to a healthier, happier, and  - way -  less stressful week.  Each one holds a delicious serving of teriyaki chicken, fluffy white rice, vibrant roasted carrots and peppers, and a generous helping of broccoli.  It's a flavor explosion in every bite – and the best part?  I made them all in advance!\n> \n> My meal prep journey wasn't always this picture-perfect.  For years, I struggled with inconsistent lunches, often resorting to unhealthy takeout or skipping meals entirely.  The thought of spending a Sunday prepping meals felt overwhelming.  But, after a particularly chaotic week of rushed lunches and late-night hunger pangs, I decided to give meal prepping a try.\n> \n> It started small.  I'd prep just one or two meals on Sunday. Then, as I saw the benefits – saved time, money, and a significant improvement in my energy levels – I gradually increased the number of meals I prepped.\n> \n> The key for me was finding simple, versatile recipes like this teriyaki chicken and veggie bowl.  It's easy to adjust portion sizes, and the ingredients are easily swappable.  Now, Sunday evenings are my “me time” dedicated to prepping my meals. It's become a relaxing ritual, not a chore.\n> \n> So, if you’re on the fence about meal prepping, I urge you to take the plunge.  Start small, find recipes you enjoy, and watch as it transforms your week from chaotic to calm and your lunch break from stressful to satisfying!\n"
          },
          "metadata": {},
          "execution_count": 31
        }
      ]
    },
    {
      "cell_type": "code",
      "source": [
        "from PIL import Image\n",
        "image_path=\"girl.jpg\"\n",
        "image = Image.open(image_path)\n",
        "response=model.generate_content([\"Describe this image in detail.\",image])\n",
        "print(response.text)"
      ],
      "metadata": {
        "colab": {
          "base_uri": "https://localhost:8080/",
          "height": 270
        },
        "id": "rUHO79LjdIyh",
        "outputId": "7b47dcf9-f0b7-4fab-a8e1-58bdf2bb87d6"
      },
      "execution_count": 34,
      "outputs": [
        {
          "output_type": "stream",
          "name": "stdout",
          "text": [
            "Here's a description of the image:\n",
            "\n",
            "Close-up view of a woman with shoulder-length, curly brown hair. \n",
            "\n",
            "\n",
            "She is smiling and gesturing with her right index finger, as if pointing to something off-camera. Her expression is friendly and inviting. \n",
            "\n",
            "\n",
            "She's wearing a teal or turquoise three-quarter sleeve kurta (a traditional South Asian top) with a subtle gold or light-colored print. The print appears to be a repeating floral or paisley-like pattern. The kurta has a simple, slightly open neckline. \n",
            "\n",
            "\n",
            "The background is a plain, bright white, which keeps the focus entirely on the woman. The lighting is soft and even, avoiding harsh shadows on her face. The overall impression is a clean, well-lit portrait of a woman in a positive and approachable mood.\n",
            "\n"
          ]
        }
      ]
    },
    {
      "cell_type": "code",
      "source": [
        "response=model.generate_content([\"What emotions can you detect in this image?\",image])\n",
        "print(response.text)"
      ],
      "metadata": {
        "colab": {
          "base_uri": "https://localhost:8080/",
          "height": 145
        },
        "id": "--_gyo3lgp9w",
        "outputId": "29efc093-0ac1-4d32-83f2-2a338b75eded"
      },
      "execution_count": 35,
      "outputs": [
        {
          "output_type": "stream",
          "name": "stdout",
          "text": [
            "The woman in the image appears to be expressing:\n",
            "\n",
            "* **Happiness/Joy:** Her smile is genuine and bright, suggesting a positive emotional state.\n",
            "* **Confidence:** Her posture and direct gaze convey self-assurance.\n",
            "* **Helpfulness/Guidance:** The gesture of pointing suggests she's offering information or direction.\n",
            "* **Friendliness/Approachability:**  Her overall expression is welcoming and inviting.\n"
          ]
        }
      ]
    },
    {
      "cell_type": "code",
      "source": [
        "image_path=\"quote.jpg\"\n",
        "image = Image.open(image_path)\n",
        "response=model.generate_content([\"Extract and read the text from this image.\",image])\n",
        "print(response.text)"
      ],
      "metadata": {
        "colab": {
          "base_uri": "https://localhost:8080/",
          "height": 89
        },
        "id": "udU-zqjvhm6f",
        "outputId": "da68d815-4092-4230-e134-3ddc8f48fa9c"
      },
      "execution_count": 36,
      "outputs": [
        {
          "output_type": "stream",
          "name": "stdout",
          "text": [
            "FAILURE is not the\n",
            "opposite of success\n",
            "it's PART OF\n",
            "SUCCESS\n"
          ]
        }
      ]
    },
    {
      "cell_type": "code",
      "source": [],
      "metadata": {
        "id": "VfOA95DWj2tz"
      },
      "execution_count": null,
      "outputs": []
    }
  ]
}