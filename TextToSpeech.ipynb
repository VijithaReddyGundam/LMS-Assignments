{
 "cells": [
  {
   "cell_type": "code",
   "execution_count": 1,
   "id": "02e8c965",
   "metadata": {},
   "outputs": [
    {
     "name": "stdout",
     "output_type": "stream",
     "text": [
      "Collecting gTTS\n",
      "  Downloading gTTS-2.5.4-py3-none-any.whl (29 kB)\n",
      "Requirement already satisfied: click<8.2,>=7.1 in c:\\users\\gunda\\anaconda3\\lib\\site-packages (from gTTS) (8.0.4)\n",
      "Requirement already satisfied: requests<3,>=2.27 in c:\\users\\gunda\\anaconda3\\lib\\site-packages (from gTTS) (2.28.1)\n",
      "Requirement already satisfied: colorama in c:\\users\\gunda\\anaconda3\\lib\\site-packages (from click<8.2,>=7.1->gTTS) (0.4.6)\n",
      "Requirement already satisfied: idna<4,>=2.5 in c:\\users\\gunda\\anaconda3\\lib\\site-packages (from requests<3,>=2.27->gTTS) (3.3)\n",
      "Requirement already satisfied: charset-normalizer<3,>=2 in c:\\users\\gunda\\anaconda3\\lib\\site-packages (from requests<3,>=2.27->gTTS) (2.0.4)\n",
      "Requirement already satisfied: urllib3<1.27,>=1.21.1 in c:\\users\\gunda\\anaconda3\\lib\\site-packages (from requests<3,>=2.27->gTTS) (1.26.11)\n",
      "Requirement already satisfied: certifi>=2017.4.17 in c:\\users\\gunda\\anaconda3\\lib\\site-packages (from requests<3,>=2.27->gTTS) (2022.9.14)\n",
      "Installing collected packages: gTTS\n",
      "Successfully installed gTTS-2.5.4\n"
     ]
    }
   ],
   "source": [
    "!pip install gTTS"
   ]
  },
  {
   "cell_type": "code",
   "execution_count": 2,
   "id": "d064024d",
   "metadata": {},
   "outputs": [],
   "source": [
    "from gtts import gTTS"
   ]
  },
  {
   "cell_type": "code",
   "execution_count": 3,
   "id": "781ebf51",
   "metadata": {},
   "outputs": [],
   "source": [
    "convert=gTTS(text='I like this NLP.How about dude!',lang=\"en\",slow=False)\n",
    "convert.save(\"audio.mp3\")"
   ]
  },
  {
   "cell_type": "code",
   "execution_count": 4,
   "id": "c81697f5",
   "metadata": {},
   "outputs": [
    {
     "name": "stdout",
     "output_type": "stream",
     "text": [
      "Collecting pyttsx3\n",
      "  Downloading pyttsx3-2.98-py3-none-any.whl (34 kB)\n",
      "Requirement already satisfied: pywin32 in c:\\users\\gunda\\anaconda3\\lib\\site-packages (from pyttsx3) (302)\n",
      "Collecting pypiwin32\n",
      "  Downloading pypiwin32-223-py3-none-any.whl (1.7 kB)\n",
      "Requirement already satisfied: comtypes in c:\\users\\gunda\\anaconda3\\lib\\site-packages (from pyttsx3) (1.1.10)\n",
      "Installing collected packages: pypiwin32, pyttsx3\n",
      "Successfully installed pypiwin32-223 pyttsx3-2.98\n"
     ]
    }
   ],
   "source": [
    "!pip install pyttsx3"
   ]
  },
  {
   "cell_type": "code",
   "execution_count": 7,
   "id": "f847936b",
   "metadata": {},
   "outputs": [],
   "source": [
    "import pyttsx3,time\n",
    "engine=pyttsx3.init()\n",
    "engine.say(\"Hi,I am text to speech\")\n",
    "engine.runAndWait()"
   ]
  },
  {
   "cell_type": "code",
   "execution_count": 8,
   "id": "49571e53",
   "metadata": {},
   "outputs": [],
   "source": [
    "text=['This is introduction to NLP','It is likely to be useful,to people','Machine learning is the new electricity','There would be less hype around AI and more action going forward','python is the best tool','R is good language','I like this book','I want more books like this']"
   ]
  },
  {
   "cell_type": "code",
   "execution_count": 11,
   "id": "55c7ab96",
   "metadata": {},
   "outputs": [],
   "source": [
    "engine=pyttsx3.init()\n",
    "engine.say(text)\n",
    "engine.runAndWait()"
   ]
  },
  {
   "cell_type": "code",
   "execution_count": 14,
   "id": "33975d90",
   "metadata": {},
   "outputs": [
    {
     "name": "stdout",
     "output_type": "stream",
     "text": [
      "200\n",
      "1.0\n"
     ]
    }
   ],
   "source": [
    "import pyttsx3\n",
    "engine=pyttsx3.init()\n",
    "rate=engine.getProperty('rate')\n",
    "print(rate)\n",
    "engine.setProperty('rate',150)\n",
    "volume=engine.getProperty('volume')\n",
    "print(volume)\n",
    "engine.setProperty('volume',1.0)\n",
    "voices=engine.getProperty('voices')\n",
    "engine.setProperty('voice',voices[1].id)\n",
    "engine.say(\"Hello World\")\n",
    "engine.say('My current speaking rate is'+str(rate))\n",
    "engine.say('My current speaking volume is'+str(volume))\n",
    "engine.runAndWait\n",
    "engine.stop()"
   ]
  },
  {
   "cell_type": "code",
   "execution_count": 20,
   "id": "fe7f3351",
   "metadata": {},
   "outputs": [
    {
     "name": "stdout",
     "output_type": "stream",
     "text": [
      "Collecting goslate\n",
      "  Using cached goslate-1.5.4.tar.gz (14 kB)\n",
      "  Preparing metadata (setup.py): started\n",
      "  Preparing metadata (setup.py): finished with status 'done'\n",
      "Collecting futures\n",
      "  Using cached futures-3.0.5.tar.gz (25 kB)\n",
      "  Preparing metadata (setup.py): started\n",
      "  Preparing metadata (setup.py): finished with status 'error'\n"
     ]
    },
    {
     "name": "stderr",
     "output_type": "stream",
     "text": [
      "  error: subprocess-exited-with-error\n",
      "  \n",
      "  python setup.py egg_info did not run successfully.\n",
      "  exit code: 1\n",
      "  \n",
      "  [27 lines of output]\n",
      "  Traceback (most recent call last):\n",
      "    File \"<string>\", line 2, in <module>\n",
      "    File \"<pip-setuptools-caller>\", line 14, in <module>\n",
      "    File \"C:\\Users\\gunda\\anaconda3\\lib\\site-packages\\setuptools\\__init__.py\", line 189, in <module>\n",
      "      monkey.patch_all()\n",
      "    File \"C:\\Users\\gunda\\anaconda3\\lib\\site-packages\\setuptools\\monkey.py\", line 99, in patch_all\n",
      "      patch_for_msvc_specialized_compiler()\n",
      "    File \"C:\\Users\\gunda\\anaconda3\\lib\\site-packages\\setuptools\\monkey.py\", line 169, in patch_for_msvc_specialized_compiler\n",
      "      patch_func(*msvc14('_get_vc_env'))\n",
      "    File \"C:\\Users\\gunda\\anaconda3\\lib\\site-packages\\setuptools\\monkey.py\", line 149, in patch_params\n",
      "      mod = import_module(mod_name)\n",
      "    File \"C:\\Users\\gunda\\anaconda3\\lib\\importlib\\__init__.py\", line 127, in import_module\n",
      "      return _bootstrap._gcd_import(name[level:], package, level)\n",
      "    File \"C:\\Users\\gunda\\anaconda3\\lib\\site-packages\\setuptools\\_distutils\\_msvccompiler.py\", line 20, in <module>\n",
      "      import unittest.mock\n",
      "    File \"C:\\Users\\gunda\\anaconda3\\lib\\unittest\\mock.py\", line 26, in <module>\n",
      "      import asyncio\n",
      "    File \"C:\\Users\\gunda\\anaconda3\\lib\\asyncio\\__init__.py\", line 8, in <module>\n",
      "      from .base_events import *\n",
      "    File \"C:\\Users\\gunda\\anaconda3\\lib\\asyncio\\base_events.py\", line 18, in <module>\n",
      "      import concurrent.futures\n",
      "    File \"C:\\Users\\gunda\\AppData\\Local\\Temp\\pip-install-2atug8yt\\futures_8d3c9106669e4fce83f8a43d63c730ad\\concurrent\\futures\\__init__.py\", line 8, in <module>\n",
      "      from concurrent.futures._base import (FIRST_COMPLETED,\n",
      "    File \"C:\\Users\\gunda\\AppData\\Local\\Temp\\pip-install-2atug8yt\\futures_8d3c9106669e4fce83f8a43d63c730ad\\concurrent\\futures\\_base.py\", line 357\n",
      "      raise type(self._exception), self._exception, self._traceback\n",
      "                                 ^\n",
      "  SyntaxError: invalid syntax\n",
      "  [end of output]\n",
      "  \n",
      "  note: This error originates from a subprocess, and is likely not a problem with pip.\n",
      "error: metadata-generation-failed\n",
      "\n",
      "Encountered error while generating package metadata.\n",
      "\n",
      "See above for output.\n",
      "\n",
      "note: This is an issue with the package mentioned above, not pip.\n",
      "hint: See above for details.\n"
     ]
    }
   ],
   "source": [
    "!pip install goslate"
   ]
  },
  {
   "cell_type": "code",
   "execution_count": 21,
   "id": "1324e7b6",
   "metadata": {},
   "outputs": [],
   "source": [
    "text=\"Bonjour le monde\""
   ]
  },
  {
   "cell_type": "code",
   "execution_count": 28,
   "id": "792b877e",
   "metadata": {},
   "outputs": [],
   "source": [
    "import goslate"
   ]
  },
  {
   "cell_type": "code",
   "execution_count": 25,
   "id": "fb37289a",
   "metadata": {},
   "outputs": [
    {
     "name": "stdout",
     "output_type": "stream",
     "text": [
      "Collecting translate\n",
      "  Downloading translate-3.6.1-py2.py3-none-any.whl (12 kB)\n",
      "Requirement already satisfied: lxml in c:\\users\\gunda\\anaconda3\\lib\\site-packages (from translate) (4.9.1)\n",
      "Requirement already satisfied: click in c:\\users\\gunda\\anaconda3\\lib\\site-packages (from translate) (8.0.4)\n",
      "Requirement already satisfied: requests in c:\\users\\gunda\\anaconda3\\lib\\site-packages (from translate) (2.28.1)\n",
      "Collecting libretranslatepy==2.1.1\n",
      "  Downloading libretranslatepy-2.1.1-py3-none-any.whl (3.2 kB)\n",
      "Requirement already satisfied: colorama in c:\\users\\gunda\\anaconda3\\lib\\site-packages (from click->translate) (0.4.6)\n",
      "Requirement already satisfied: urllib3<1.27,>=1.21.1 in c:\\users\\gunda\\anaconda3\\lib\\site-packages (from requests->translate) (1.26.11)\n",
      "Requirement already satisfied: idna<4,>=2.5 in c:\\users\\gunda\\anaconda3\\lib\\site-packages (from requests->translate) (3.3)\n",
      "Requirement already satisfied: certifi>=2017.4.17 in c:\\users\\gunda\\anaconda3\\lib\\site-packages (from requests->translate) (2022.9.14)\n",
      "Requirement already satisfied: charset-normalizer<3,>=2 in c:\\users\\gunda\\anaconda3\\lib\\site-packages (from requests->translate) (2.0.4)\n",
      "Installing collected packages: libretranslatepy, translate\n",
      "Successfully installed libretranslatepy-2.1.1 translate-3.6.1\n"
     ]
    }
   ],
   "source": [
    "!pip install translate"
   ]
  },
  {
   "cell_type": "code",
   "execution_count": null,
   "id": "3339a4bb",
   "metadata": {},
   "outputs": [],
   "source": []
  }
 ],
 "metadata": {
  "kernelspec": {
   "display_name": "Python 3 (ipykernel)",
   "language": "python",
   "name": "python3"
  },
  "language_info": {
   "codemirror_mode": {
    "name": "ipython",
    "version": 3
   },
   "file_extension": ".py",
   "mimetype": "text/x-python",
   "name": "python",
   "nbconvert_exporter": "python",
   "pygments_lexer": "ipython3",
   "version": "3.9.13"
  }
 },
 "nbformat": 4,
 "nbformat_minor": 5
}
